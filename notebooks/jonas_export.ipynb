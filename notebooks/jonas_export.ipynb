{
 "cells": [
  {
   "metadata": {},
   "cell_type": "markdown",
   "source": "# Semi-Manual export of model for Llama.cpp",
   "id": "8e720443232d524d"
  },
  {
   "metadata": {},
   "cell_type": "markdown",
   "source": "## Load Unsloth Model",
   "id": "8227aa14d7588218"
  },
  {
   "metadata": {
    "ExecuteTime": {
     "end_time": "2024-11-29T12:05:29.251715Z",
     "start_time": "2024-11-29T12:05:12.057972Z"
    }
   },
   "cell_type": "code",
   "source": [
    "from transformers import AutoModel, AutoTokenizer\n",
    "from unsloth import FastLanguageModel\n",
    "import torch\n",
    "\n",
    "base_model_name = \"llama-3.2-1b-instruct-lora_model-1epoch\"\n",
    "max_seq_length = 2048\n",
    "dtype = None\n",
    "load_in_4bit = True\n",
    "\n",
    "model, tokenizer = FastLanguageModel.from_pretrained(\n",
    "    # model_name = \"Taiwar/\" + base_model_name, # or choose \"unsloth/Llama-3.2-1B-Instruct\"\n",
    "    model_name = \"../models/\" + base_model_name, # Local model\n",
    "    max_seq_length=max_seq_length,\n",
    "    dtype=dtype,\n",
    "    load_in_4bit=load_in_4bit\n",
    ")"
   ],
   "id": "7639712d001e7356",
   "outputs": [
    {
     "name": "stdout",
     "output_type": "stream",
     "text": [
      "🦥 Unsloth: Will patch your computer to enable 2x faster free finetuning.\n",
      "🦥 Unsloth Zoo will now patch everything to make training faster!\n",
      "==((====))==  Unsloth 2024.11.9: Fast Llama patching. Transformers = 4.46.3.\n",
      "   \\\\   /|    GPU: NVIDIA GeForce RTX 2060 SUPER. Max memory: 8.0 GB. Platform = Windows.\n",
      "O^O/ \\_/ \\    Pytorch: 2.4.0. CUDA = 7.5. CUDA Toolkit = 12.1.\n",
      "\\        /    Bfloat16 = FALSE. FA [Xformers = 0.0.27.post2. FA2 = False]\n",
      " \"-____-\"     Free Apache license: http://github.com/unslothai/unsloth\n",
      "Unsloth: Fast downloading is enabled - ignore downloading bars which are red colored!\n"
     ]
    },
    {
     "name": "stderr",
     "output_type": "stream",
     "text": [
      "C:\\Users\\jonas\\anaconda3\\envs\\unsloth_env\\lib\\site-packages\\unsloth\\models\\llama.py:1141: UserWarning: expandable_segments not supported on this platform (Triggered internally at C:\\cb\\pytorch_1000000000000\\work\\c10/cuda/CUDAAllocatorConfig.h:28.)\n",
      "  self.register_buffer(\"cos_cached\", emb.cos().to(dtype=dtype, device=device, non_blocking=True), persistent=False)\n",
      "Unsloth 2024.11.9 patched 16 layers with 16 QKV layers, 16 O layers and 16 MLP layers.\n"
     ]
    }
   ],
   "execution_count": 1
  },
  {
   "metadata": {},
   "cell_type": "markdown",
   "source": "## 2. Save model in merged 16bit format",
   "id": "68956681a0f8216c"
  },
  {
   "cell_type": "code",
   "execution_count": null,
   "id": "initial_id",
   "metadata": {
    "collapsed": true
   },
   "outputs": [],
   "source": "model.save_pretrained_merged(\"models/llama-3.2-1b-instruct-lora-1poch_merged16b\", tokenizer, save_method = \"merged_16bit\",)"
  },
  {
   "metadata": {
    "ExecuteTime": {
     "end_time": "2024-11-29T12:08:26.427047Z",
     "start_time": "2024-11-29T12:06:05.799924Z"
    }
   },
   "cell_type": "code",
   "source": [
    "# Optionally upload 16 bit version to HF for vllm\n",
    "hf_token = open(\".hftoken\").read().strip()\n",
    "model.push_to_hub_merged(\"Taiwar/llama-3.2-1b-instruct-lora-1poch_merged16b\", tokenizer, save_method = \"merged_16bit\", token = hf_token)"
   ],
   "id": "b4979b0c5f09608f",
   "outputs": [
    {
     "name": "stderr",
     "output_type": "stream",
     "text": [
      "Unsloth: You are pushing to hub, but you passed your HF username = Taiwar.\n",
      "We shall truncate Taiwar/llama-3.2-1b-instruct-lora-1poch_merged16b to llama-3.2-1b-instruct-lora-1poch_merged16b\n"
     ]
    },
    {
     "name": "stdout",
     "output_type": "stream",
     "text": [
      "Unsloth: Merging 4bit and LoRA weights to 16bit...\n",
      "Unsloth: Will use up to 7.3 out of 31.95 RAM for saving.\n"
     ]
    },
    {
     "name": "stderr",
     "output_type": "stream",
     "text": [
      "100%|██████████| 16/16 [00:00<00:00, 24.06it/s]\n"
     ]
    },
    {
     "name": "stdout",
     "output_type": "stream",
     "text": [
      "Unsloth: Saving tokenizer..."
     ]
    },
    {
     "data": {
      "text/plain": [
       "tokenizer.json:   0%|          | 0.00/17.2M [00:00<?, ?B/s]"
      ],
      "application/vnd.jupyter.widget-view+json": {
       "version_major": 2,
       "version_minor": 0,
       "model_id": "3ffbf67d32a2439bb270814b4a2dac88"
      }
     },
     "metadata": {},
     "output_type": "display_data"
    },
    {
     "name": "stdout",
     "output_type": "stream",
     "text": [
      " Done.\n",
      "Unsloth: Saving model... This might take 5 minutes for Llama-7b...\n"
     ]
    },
    {
     "data": {
      "text/plain": [
       "README.md:   0%|          | 0.00/617 [00:00<?, ?B/s]"
      ],
      "application/vnd.jupyter.widget-view+json": {
       "version_major": 2,
       "version_minor": 0,
       "model_id": "e2ac41ea963c4ef68abf9d11907b1433"
      }
     },
     "metadata": {},
     "output_type": "display_data"
    },
    {
     "data": {
      "text/plain": [
       "model.safetensors:   0%|          | 0.00/2.47G [00:00<?, ?B/s]"
      ],
      "application/vnd.jupyter.widget-view+json": {
       "version_major": 2,
       "version_minor": 0,
       "model_id": "49ae4064490d4a579f34234d36f6c18b"
      }
     },
     "metadata": {},
     "output_type": "display_data"
    },
    {
     "name": "stdout",
     "output_type": "stream",
     "text": [
      "Done.\n",
      "Saved merged model to https://huggingface.co/Taiwar/llama-3.2-1b-instruct-lora-1poch_merged16b\n"
     ]
    }
   ],
   "execution_count": 3
  },
  {
   "metadata": {},
   "cell_type": "markdown",
   "source": [
    "## 3. Run Llama.cpp\n",
    "See https://github.com/unslothai/unsloth/wiki#manually-saving-to-gguf"
   ],
   "id": "7ee51639a691bc84"
  },
  {
   "metadata": {},
   "cell_type": "markdown",
   "source": "## 4. Push model to HF",
   "id": "e676340d0de53b41"
  },
  {
   "metadata": {},
   "cell_type": "code",
   "outputs": [],
   "execution_count": null,
   "source": [
    "from huggingface_hub import HfApi\n",
    "hf_token = open(\".hftoken\").read().strip()\n",
    "api = HfApi(token=hf_token)\n",
    "\n",
    "model_id = \"Taiwar/llama-3.2-1b-instruct-lora_model-1epoch\"\n",
    "api.upload_file(\n",
    "    path_or_fileobj=\"../models/llama-3.2-1b-instruct-lora_merged-1epoch-16b-gguf/llama-3.2-1b-instruct-lora_merged-1epoch-16b.gguf\",\n",
    "    path_in_repo=\"llama-3.2-1b-instruct-lora_merged-1epoch-16b.gguf\",\n",
    "    repo_id=model_id,\n",
    ")"
   ],
   "id": "2f4c2cc55bbcf64a"
  }
 ],
 "metadata": {
  "kernelspec": {
   "display_name": "Python 3",
   "language": "python",
   "name": "python3"
  },
  "language_info": {
   "codemirror_mode": {
    "name": "ipython",
    "version": 2
   },
   "file_extension": ".py",
   "mimetype": "text/x-python",
   "name": "python",
   "nbconvert_exporter": "python",
   "pygments_lexer": "ipython2",
   "version": "2.7.6"
  }
 },
 "nbformat": 4,
 "nbformat_minor": 5
}
