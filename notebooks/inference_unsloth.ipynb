{
 "cells": [
  {
   "cell_type": "code",
   "execution_count": null,
   "id": "initial_id",
   "metadata": {
    "collapsed": true
   },
   "outputs": [],
   "source": [
    "%%capture\n",
    "!pip install unsloth"
   ]
  },
  {
   "metadata": {
    "ExecuteTime": {
     "end_time": "2024-11-22T11:32:28.043219Z",
     "start_time": "2024-11-22T11:32:28.032956Z"
    }
   },
   "cell_type": "code",
   "source": [
    "base_model_name = \"unsloth/Llama-3.2-3B-Instruct\"\n",
    "max_seq_length = 2048\n",
    "dtype = None\n",
    "load_in_4bit = True"
   ],
   "id": "fb4c47e6ec10611c",
   "outputs": [],
   "execution_count": 9
  },
  {
   "metadata": {
    "ExecuteTime": {
     "end_time": "2024-11-22T11:33:11.451526Z",
     "start_time": "2024-11-22T11:32:29.347797Z"
    }
   },
   "cell_type": "code",
   "source": [
    "from transformers import AutoModel, AutoTokenizer\n",
    "from unsloth import FastLanguageModel\n",
    "import torch\n",
    "\n",
    "model, tokenizer = FastLanguageModel.from_pretrained(\n",
    "    # model_name = base_model_name, # or choose \"unsloth/Llama-3.2-1B-Instruct\"\n",
    "    model_name = \"../models/\" + base_model_name, # Local model\n",
    "    max_seq_length=max_seq_length,\n",
    "    dtype=dtype,\n",
    "    load_in_4bit=load_in_4bit\n",
    ")"
   ],
   "id": "ff6481fcf25942f8",
   "outputs": [
    {
     "name": "stdout",
     "output_type": "stream",
     "text": [
      "🦥 Unsloth: Will patch your computer to enable 2x faster free finetuning.\n",
      "🦥 Unsloth Zoo will now patch everything to make training faster!\n",
      "==((====))==  Unsloth 2024.11.9: Fast Llama patching. Transformers = 4.46.3.\n",
      "   \\\\   /|    GPU: NVIDIA GeForce RTX 2060 SUPER. Max memory: 8.0 GB. Platform = Windows.\n",
      "O^O/ \\_/ \\    Pytorch: 2.4.0. CUDA = 7.5. CUDA Toolkit = 12.1.\n",
      "\\        /    Bfloat16 = FALSE. FA [Xformers = 0.0.27.post2. FA2 = False]\n",
      " \"-____-\"     Free Apache license: http://github.com/unslothai/unsloth\n",
      "Unsloth: Fast downloading is enabled - ignore downloading bars which are red colored!\n"
     ]
    },
    {
     "data": {
      "text/plain": [
       "Loading checkpoint shards:   0%|          | 0/3 [00:00<?, ?it/s]"
      ],
      "application/vnd.jupyter.widget-view+json": {
       "version_major": 2,
       "version_minor": 0,
       "model_id": "58b12e25be4540caaf4e55d8b4299f4f"
      }
     },
     "metadata": {},
     "output_type": "display_data"
    }
   ],
   "execution_count": 10
  },
  {
   "metadata": {
    "ExecuteTime": {
     "end_time": "2024-11-22T11:34:17.011933Z",
     "start_time": "2024-11-22T11:34:10.009389Z"
    }
   },
   "cell_type": "code",
   "source": [
    "FastLanguageModel.for_inference(model)\n",
    "\n",
    "messages = [\n",
    "    {\"role\": \"user\", \"content\": \"What is the capital of Germany?\"},\n",
    "]\n",
    "inputs = tokenizer.apply_chat_template(\n",
    "    messages,\n",
    "    tokenize = True,\n",
    "    add_generation_prompt = True, # Must add for generation\n",
    "    return_tensors = \"pt\",\n",
    ").to(\"cuda\")\n",
    "\n",
    "from transformers import TextStreamer\n",
    "text_streamer = TextStreamer(tokenizer, skip_prompt = True)\n",
    "_ = model.generate(input_ids = inputs, streamer = text_streamer, max_new_tokens = 128,\n",
    "                   use_cache = True, temperature = 1.5, min_p = 0.1)"
   ],
   "id": "5bc2e9b1ad46e3fb",
   "outputs": [
    {
     "name": "stdout",
     "output_type": "stream",
     "text": [
      "opy se...\n",
      "\n",
      "...\n",
      " se sa  so[\\\n",
      "[\\ also\n",
      "\n",
      " ke se, but who ke.\n",
      " who?\n",
      "  g,..\n",
      "...\n",
      "\n",
      "\n",
      "\n",
      " to k\n",
      "\n",
      " a \n",
      " st k?\n",
      ".\n",
      " as\n",
      " will who tuning\n",
      ".\n",
      "\n",
      ".\n",
      ".\n",
      " g to only g?\n",
      " agon,\n",
      "\n",
      "...\n",
      "\n",
      "\n",
      "\n",
      " agon applied.\n",
      " also,.\n",
      "\n",
      ",\n",
      "\\�\n",
      " is�.\n",
      " only...\n",
      "\n",
      "\n",
      "\n",
      " or also\n",
      " are.\n",
      "\n",
      "...\n",
      "`\n",
      "% of.\n",
      "\n",
      ".\n",
      "\n",
      "\n",
      "/ traffic also \n",
      "\n",
      ", also, were like`\n",
      " traffic aggreg\n",
      "? of?\n",
      "\n",
      " behaviour are/ only are or aggreg were did� behaviour\n",
      " like\n",
      "`\n",
      ".\n",
      " were\n",
      ":...\n",
      "\n",
      "\n"
     ]
    }
   ],
   "execution_count": 12
  }
 ],
 "metadata": {
  "kernelspec": {
   "display_name": "Python 3",
   "language": "python",
   "name": "python3"
  },
  "language_info": {
   "codemirror_mode": {
    "name": "ipython",
    "version": 2
   },
   "file_extension": ".py",
   "mimetype": "text/x-python",
   "name": "python",
   "nbconvert_exporter": "python",
   "pygments_lexer": "ipython2",
   "version": "2.7.6"
  }
 },
 "nbformat": 4,
 "nbformat_minor": 5
}
