{
 "cells": [
  {
   "metadata": {},
   "cell_type": "markdown",
   "source": "# Semi-Manual export of model for Llama.cpp",
   "id": "8e720443232d524d"
  },
  {
   "metadata": {},
   "cell_type": "markdown",
   "source": "## Load Unsloth Model",
   "id": "8227aa14d7588218"
  },
  {
   "metadata": {},
   "cell_type": "code",
   "outputs": [],
   "execution_count": null,
   "source": [
    "from transformers import AutoModel, AutoTokenizer\n",
    "from unsloth import FastLanguageModel\n",
    "import torch\n",
    "\n",
    "base_model_name = \"llama-3.2-1b-instruct-lora_model-1epoch\"\n",
    "max_seq_length = 2048\n",
    "dtype = None\n",
    "load_in_4bit = True\n",
    "\n",
    "model, tokenizer = FastLanguageModel.from_pretrained(\n",
    "    # model_name = \"Taiwar/\" + base_model_name, # or choose \"unsloth/Llama-3.2-1B-Instruct\"\n",
    "    model_name = \"../models/\" + base_model_name, # Local model\n",
    "    max_seq_length=max_seq_length,\n",
    "    dtype=dtype,\n",
    "    load_in_4bit=load_in_4bit\n",
    ")"
   ],
   "id": "7639712d001e7356"
  },
  {
   "metadata": {},
   "cell_type": "markdown",
   "source": "## 2. Save model in merged 16bit format",
   "id": "68956681a0f8216c"
  },
  {
   "cell_type": "code",
   "execution_count": null,
   "id": "initial_id",
   "metadata": {
    "collapsed": true
   },
   "outputs": [],
   "source": "model.save_pretrained_merged(\"models/llama-3.2-1b-instruct-lora-1poch_merged16b\", tokenizer, save_method = \"merged_16bit\",)"
  },
  {
   "metadata": {},
   "cell_type": "markdown",
   "source": [
    "## 3. Run Llama.cpp\n",
    "See https://github.com/unslothai/unsloth/wiki#manually-saving-to-gguf"
   ],
   "id": "7ee51639a691bc84"
  },
  {
   "metadata": {},
   "cell_type": "markdown",
   "source": "## 4. Push model to HF",
   "id": "e676340d0de53b41"
  },
  {
   "metadata": {},
   "cell_type": "code",
   "outputs": [],
   "execution_count": null,
   "source": [
    "from huggingface_hub import HfApi\n",
    "hf_token = open(\".hftoken\").read().strip()\n",
    "api = HfApi(token=hf_token)\n",
    "\n",
    "model_id = \"Taiwar/llama-3.2-1b-instruct-lora_model-1epoch\"\n",
    "api.upload_file(\n",
    "    path_or_fileobj=\"../models/llama-3.2-1b-instruct-lora_merged-1epoch-16b-gguf/llama-3.2-1b-instruct-lora_merged-1epoch-16b.gguf\",\n",
    "    path_in_repo=\"llama-3.2-1b-instruct-lora_merged-1epoch-16b.gguf\",\n",
    "    repo_id=model_id,\n",
    ")"
   ],
   "id": "2f4c2cc55bbcf64a"
  }
 ],
 "metadata": {
  "kernelspec": {
   "display_name": "Python 3",
   "language": "python",
   "name": "python3"
  },
  "language_info": {
   "codemirror_mode": {
    "name": "ipython",
    "version": 2
   },
   "file_extension": ".py",
   "mimetype": "text/x-python",
   "name": "python",
   "nbconvert_exporter": "python",
   "pygments_lexer": "ipython2",
   "version": "2.7.6"
  }
 },
 "nbformat": 4,
 "nbformat_minor": 5
}
